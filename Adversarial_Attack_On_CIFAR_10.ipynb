{
  "nbformat": 4,
  "nbformat_minor": 0,
  "metadata": {
    "colab": {
      "name": "Adversarial Attack On CIFAR-10.ipynb",
      "provenance": [],
      "collapsed_sections": [],
      "toc_visible": true,
      "authorship_tag": "ABX9TyOKNyqqrAN2Ji82RG5PnTxK",
      "include_colab_link": true
    },
    "kernelspec": {
      "name": "python3",
      "display_name": "Python 3"
    },
    "accelerator": "GPU",
    "widgets": {
      "application/vnd.jupyter.widget-state+json": {
        "6648ff8c7724488ca9183e8ae3447cee": {
          "model_module": "@jupyter-widgets/controls",
          "model_name": "HBoxModel",
          "state": {
            "_view_name": "HBoxView",
            "_dom_classes": [],
            "_model_name": "HBoxModel",
            "_view_module": "@jupyter-widgets/controls",
            "_model_module_version": "1.5.0",
            "_view_count": null,
            "_view_module_version": "1.5.0",
            "box_style": "",
            "layout": "IPY_MODEL_44927769419e49e3a2407a051637cc6a",
            "_model_module": "@jupyter-widgets/controls",
            "children": [
              "IPY_MODEL_9906b04e483b4174aa40bd1590685631",
              "IPY_MODEL_070a3bc8aa8b46a5a42455b7da204410"
            ]
          }
        },
        "44927769419e49e3a2407a051637cc6a": {
          "model_module": "@jupyter-widgets/base",
          "model_name": "LayoutModel",
          "state": {
            "_view_name": "LayoutView",
            "grid_template_rows": null,
            "right": null,
            "justify_content": null,
            "_view_module": "@jupyter-widgets/base",
            "overflow": null,
            "_model_module_version": "1.2.0",
            "_view_count": null,
            "flex_flow": null,
            "width": null,
            "min_width": null,
            "border": null,
            "align_items": null,
            "bottom": null,
            "_model_module": "@jupyter-widgets/base",
            "top": null,
            "grid_column": null,
            "overflow_y": null,
            "overflow_x": null,
            "grid_auto_flow": null,
            "grid_area": null,
            "grid_template_columns": null,
            "flex": null,
            "_model_name": "LayoutModel",
            "justify_items": null,
            "grid_row": null,
            "max_height": null,
            "align_content": null,
            "visibility": null,
            "align_self": null,
            "height": null,
            "min_height": null,
            "padding": null,
            "grid_auto_rows": null,
            "grid_gap": null,
            "max_width": null,
            "order": null,
            "_view_module_version": "1.2.0",
            "grid_template_areas": null,
            "object_position": null,
            "object_fit": null,
            "grid_auto_columns": null,
            "margin": null,
            "display": null,
            "left": null
          }
        },
        "9906b04e483b4174aa40bd1590685631": {
          "model_module": "@jupyter-widgets/controls",
          "model_name": "FloatProgressModel",
          "state": {
            "_view_name": "ProgressView",
            "style": "IPY_MODEL_4e8d7d4ad78549cdab3fe45b27f94913",
            "_dom_classes": [],
            "description": "",
            "_model_name": "FloatProgressModel",
            "bar_style": "info",
            "max": 1,
            "_view_module": "@jupyter-widgets/controls",
            "_model_module_version": "1.5.0",
            "value": 1,
            "_view_count": null,
            "_view_module_version": "1.5.0",
            "orientation": "horizontal",
            "min": 0,
            "description_tooltip": null,
            "_model_module": "@jupyter-widgets/controls",
            "layout": "IPY_MODEL_5ec8ba4584de467da294d149a4a27b52"
          }
        },
        "070a3bc8aa8b46a5a42455b7da204410": {
          "model_module": "@jupyter-widgets/controls",
          "model_name": "HTMLModel",
          "state": {
            "_view_name": "HTMLView",
            "style": "IPY_MODEL_e3f1aa8b22004830b54e0b0eae660ee6",
            "_dom_classes": [],
            "description": "",
            "_model_name": "HTMLModel",
            "placeholder": "​",
            "_view_module": "@jupyter-widgets/controls",
            "_model_module_version": "1.5.0",
            "value": " 170500096/? [00:30&lt;00:00, 15117284.72it/s]",
            "_view_count": null,
            "_view_module_version": "1.5.0",
            "description_tooltip": null,
            "_model_module": "@jupyter-widgets/controls",
            "layout": "IPY_MODEL_41f583f66e9b485eb7c9b5b5342a62ca"
          }
        },
        "4e8d7d4ad78549cdab3fe45b27f94913": {
          "model_module": "@jupyter-widgets/controls",
          "model_name": "ProgressStyleModel",
          "state": {
            "_view_name": "StyleView",
            "_model_name": "ProgressStyleModel",
            "description_width": "initial",
            "_view_module": "@jupyter-widgets/base",
            "_model_module_version": "1.5.0",
            "_view_count": null,
            "_view_module_version": "1.2.0",
            "bar_color": null,
            "_model_module": "@jupyter-widgets/controls"
          }
        },
        "5ec8ba4584de467da294d149a4a27b52": {
          "model_module": "@jupyter-widgets/base",
          "model_name": "LayoutModel",
          "state": {
            "_view_name": "LayoutView",
            "grid_template_rows": null,
            "right": null,
            "justify_content": null,
            "_view_module": "@jupyter-widgets/base",
            "overflow": null,
            "_model_module_version": "1.2.0",
            "_view_count": null,
            "flex_flow": null,
            "width": null,
            "min_width": null,
            "border": null,
            "align_items": null,
            "bottom": null,
            "_model_module": "@jupyter-widgets/base",
            "top": null,
            "grid_column": null,
            "overflow_y": null,
            "overflow_x": null,
            "grid_auto_flow": null,
            "grid_area": null,
            "grid_template_columns": null,
            "flex": null,
            "_model_name": "LayoutModel",
            "justify_items": null,
            "grid_row": null,
            "max_height": null,
            "align_content": null,
            "visibility": null,
            "align_self": null,
            "height": null,
            "min_height": null,
            "padding": null,
            "grid_auto_rows": null,
            "grid_gap": null,
            "max_width": null,
            "order": null,
            "_view_module_version": "1.2.0",
            "grid_template_areas": null,
            "object_position": null,
            "object_fit": null,
            "grid_auto_columns": null,
            "margin": null,
            "display": null,
            "left": null
          }
        },
        "e3f1aa8b22004830b54e0b0eae660ee6": {
          "model_module": "@jupyter-widgets/controls",
          "model_name": "DescriptionStyleModel",
          "state": {
            "_view_name": "StyleView",
            "_model_name": "DescriptionStyleModel",
            "description_width": "",
            "_view_module": "@jupyter-widgets/base",
            "_model_module_version": "1.5.0",
            "_view_count": null,
            "_view_module_version": "1.2.0",
            "_model_module": "@jupyter-widgets/controls"
          }
        },
        "41f583f66e9b485eb7c9b5b5342a62ca": {
          "model_module": "@jupyter-widgets/base",
          "model_name": "LayoutModel",
          "state": {
            "_view_name": "LayoutView",
            "grid_template_rows": null,
            "right": null,
            "justify_content": null,
            "_view_module": "@jupyter-widgets/base",
            "overflow": null,
            "_model_module_version": "1.2.0",
            "_view_count": null,
            "flex_flow": null,
            "width": null,
            "min_width": null,
            "border": null,
            "align_items": null,
            "bottom": null,
            "_model_module": "@jupyter-widgets/base",
            "top": null,
            "grid_column": null,
            "overflow_y": null,
            "overflow_x": null,
            "grid_auto_flow": null,
            "grid_area": null,
            "grid_template_columns": null,
            "flex": null,
            "_model_name": "LayoutModel",
            "justify_items": null,
            "grid_row": null,
            "max_height": null,
            "align_content": null,
            "visibility": null,
            "align_self": null,
            "height": null,
            "min_height": null,
            "padding": null,
            "grid_auto_rows": null,
            "grid_gap": null,
            "max_width": null,
            "order": null,
            "_view_module_version": "1.2.0",
            "grid_template_areas": null,
            "object_position": null,
            "object_fit": null,
            "grid_auto_columns": null,
            "margin": null,
            "display": null,
            "left": null
          }
        }
      }
    }
  },
  "cells": [
    {
      "cell_type": "markdown",
      "metadata": {
        "id": "view-in-github",
        "colab_type": "text"
      },
      "source": [
        "<a href=\"https://colab.research.google.com/github/antoninodimaggio/PyTorch-Adversarial-Examples/blob/master/Adversarial_Attack_On_CIFAR_10.ipynb\" target=\"_parent\"><img src=\"https://colab.research.google.com/assets/colab-badge.svg\" alt=\"Open In Colab\"/></a>"
      ]
    },
    {
      "cell_type": "markdown",
      "metadata": {
        "id": "k1IqEEnf5qEA",
        "colab_type": "text"
      },
      "source": [
        "# Adversarial Attack On CIFAR-10\n",
        "* An adversarial example is when you mess up an image in order to fool a Convolutional Neural Network (CNN) into classifying an image into a different class.\n",
        "* Research into how to prevent adversarial attacks is a very hot topic since the use of CNNs in production becomes more and more common everyday.\n",
        "* This notebook focuses on an attack method known as the HopSkipJumpAttack. This attack can produce images that do not differ in appearance from the original yet will be classified as the wrong label.\n",
        "*First we have to train a fairly robust CIFAR-10 classifier using PyTorch.\n"
      ]
    },
    {
      "cell_type": "code",
      "metadata": {
        "id": "3JHGlQYSwHFP",
        "colab_type": "code",
        "colab": {}
      },
      "source": [
        "import torch\n",
        "import torchvision\n",
        "import torch.nn as nn\n",
        "import torchvision.transforms as transforms"
      ],
      "execution_count": 0,
      "outputs": []
    },
    {
      "cell_type": "code",
      "metadata": {
        "id": "67uZLxNjw_vF",
        "colab_type": "code",
        "colab": {}
      },
      "source": [
        "class RobustCifar(nn.Module):\n",
        "\n",
        "\n",
        "    def __init__(self):\n",
        "        super(RobustCifar, self).__init__()\n",
        "\n",
        "        self.conv_layer = nn.Sequential(  \n",
        "            # block 1\n",
        "            nn.Conv2d(3, 32, 3, padding=1),\n",
        "            nn.ELU(inplace=True),\n",
        "            nn.BatchNorm2d(32),\n",
        "            nn.Conv2d(32, 32, 3, padding=1),\n",
        "            nn.ELU(inplace=True),\n",
        "            nn.BatchNorm2d(32),\n",
        "            nn.MaxPool2d(2),\n",
        "            nn.Dropout2d(p=0.2),\n",
        "            # block 2\n",
        "            nn.Conv2d(32, 64, 3, padding=1),\n",
        "            nn.ELU(inplace=True),\n",
        "            nn.BatchNorm2d(64),\n",
        "            nn.Conv2d(64, 64, 3, padding=1),\n",
        "            nn.ELU(inplace=True),\n",
        "            nn.BatchNorm2d(64),\n",
        "            nn.MaxPool2d(2),\n",
        "            nn.Dropout2d(p=0.3),\n",
        "            # block 3\n",
        "            nn.Conv2d(64, 128, 3, padding=1),\n",
        "            nn.ELU(inplace=True),\n",
        "            nn.BatchNorm2d(128),\n",
        "            nn.Conv2d(128, 128, 3, padding=1),\n",
        "            nn.ELU(inplace=True),\n",
        "            nn.BatchNorm2d(128),\n",
        "            nn.MaxPool2d(2),\n",
        "            nn.Dropout2d(p=0.4)\n",
        "        )\n",
        "\n",
        "        self.fc_layer = nn.Sequential(  \n",
        "            nn.Linear(2048, 10),\n",
        "            nn.Softmax(dim=1)\n",
        "        )\n",
        "\n",
        "\n",
        "    def forward(self, x):\n",
        "        x = self.conv_layer(x)\n",
        "        x = x.view(x.size(0), -1)\n",
        "        x = self.fc_layer(x)\n",
        "        return x\n",
        "\n",
        "\n",
        "def test():\n",
        "    model = RobustCifar()\n",
        "    x = torch.zeros(1,3,32,32)\n",
        "    y = model(x)\n",
        "    print(y)\n",
        "# test()"
      ],
      "execution_count": 0,
      "outputs": []
    },
    {
      "cell_type": "code",
      "metadata": {
        "id": "zdEHJ-JPyXSw",
        "colab_type": "code",
        "outputId": "2130e728-aaca-4c7e-fcde-5f7d8a2fcd1c",
        "colab": {
          "base_uri": "https://localhost:8080/",
          "height": 100,
          "referenced_widgets": [
            "6648ff8c7724488ca9183e8ae3447cee",
            "44927769419e49e3a2407a051637cc6a",
            "9906b04e483b4174aa40bd1590685631",
            "070a3bc8aa8b46a5a42455b7da204410",
            "4e8d7d4ad78549cdab3fe45b27f94913",
            "5ec8ba4584de467da294d149a4a27b52",
            "e3f1aa8b22004830b54e0b0eae660ee6",
            "41f583f66e9b485eb7c9b5b5342a62ca"
          ]
        }
      },
      "source": [
        "# data augmentation for training\n",
        "train_transform = transforms.Compose([\n",
        "    transforms.RandomCrop(32, padding=4),\n",
        "    transforms.RandomHorizontalFlip(),\n",
        "    transforms.ToTensor(),\n",
        "    transforms.Normalize((0.4914, 0.4822, 0.4465), (0.2470, 0.2435, 0.2616))])\n",
        "\n",
        "test_transform = transforms.Compose(\n",
        "    [transforms.ToTensor(),\n",
        "     transforms.Normalize((0.4914, 0.4822, 0.4465), (0.2470, 0.2435, 0.2616))])\n",
        "\n",
        "\n",
        "train_set = torchvision.datasets.CIFAR10(root='./data/downloads', train=True,\n",
        "                                        download=True, transform=train_transform)\n",
        "\n",
        "\n",
        "test_set = torchvision.datasets.CIFAR10(root='./data/downloads', train=False,\n",
        "                                       download=True, transform=test_transform)\n",
        "\n",
        "test_set, validation_set = torch.utils.data.random_split(test_set, [5000, 5000])\n",
        "\n",
        "# 50,000 training samples\n",
        "train_loader = torch.utils.data.DataLoader(train_set, batch_size=64,\n",
        "                                          shuffle=True, num_workers=2,\n",
        "                                          pin_memory=True)\n",
        "\n",
        "# 5,000 validation samples\n",
        "validation_loader = torch.utils.data.DataLoader(test_set, batch_size=64,\n",
        "                                         shuffle=True, num_workers=2,\n",
        "                                         pin_memory=True)\n",
        "\n",
        "# 5,000 test samples\n",
        "test_loader = torch.utils.data.DataLoader(test_set, batch_size=1,\n",
        "                                         shuffle=True, num_workers=2,\n",
        "                                         pin_memory=True)\n"
      ],
      "execution_count": 0,
      "outputs": [
        {
          "output_type": "stream",
          "text": [
            "Downloading https://www.cs.toronto.edu/~kriz/cifar-10-python.tar.gz to ./data/downloads/cifar-10-python.tar.gz\n"
          ],
          "name": "stdout"
        },
        {
          "output_type": "display_data",
          "data": {
            "application/vnd.jupyter.widget-view+json": {
              "model_id": "6648ff8c7724488ca9183e8ae3447cee",
              "version_minor": 0,
              "version_major": 2
            },
            "text/plain": [
              "HBox(children=(FloatProgress(value=1.0, bar_style='info', max=1.0), HTML(value='')))"
            ]
          },
          "metadata": {
            "tags": []
          }
        },
        {
          "output_type": "stream",
          "text": [
            "Extracting ./data/downloads/cifar-10-python.tar.gz to ./data/downloads\n",
            "Files already downloaded and verified\n"
          ],
          "name": "stdout"
        }
      ]
    },
    {
      "cell_type": "code",
      "metadata": {
        "id": "DL7-yZeazWnI",
        "colab_type": "code",
        "outputId": "32a598e0-4180-43f8-828e-1e8340bc4ff4",
        "colab": {
          "base_uri": "https://localhost:8080/",
          "height": 1000
        }
      },
      "source": [
        "# would not want to train this on a cpu\n",
        "device = torch.device('cuda')\n",
        "model = RobustCifar().to(device)\n",
        "criterion = nn.CrossEntropyLoss()\n",
        "\"\"\"\n",
        "# ~ 81% 125 epochs\n",
        "optimizer = torch.optim.Adam(model.parameters(), lr=0.001, weight_decay=0.000001)\n",
        "scheduler = torch.optim.lr_scheduler.MultiStepLR(optimizer, milestones=[75, 100], gamma=0.5)\n",
        "\"\"\"\n",
        "# ~ 85% 120 epochs\n",
        "optimizer = torch.optim.Adam(model.parameters(), lr=0.001, weight_decay=0.0001)\n",
        "scheduler = torch.optim.lr_scheduler.MultiStepLR(optimizer, milestones=[75, 100], gamma=0.5)\n",
        "\n",
        "\n",
        "num_epochs = 120\n",
        "print('Start training ...')\n",
        "for epoch in range(num_epochs):\n",
        "  training_loss = 0.0\n",
        "  validation_loss = 0.0\n",
        "  model.train()\n",
        "  for batch, (inputs, labels) in enumerate(train_loader, 0):\n",
        "    inputs, labels = inputs.to(device), labels.to(device)\n",
        "    optimizer.zero_grad()\n",
        "    outputs = model(inputs)\n",
        "    loss = criterion(outputs, labels)\n",
        "    loss.backward()\n",
        "    optimizer.step()\n",
        "    training_loss += loss.item()\n",
        "  print('Training --> Epoch: %d, Loss: %1.8f LR: %1.8f' % (epoch+1, training_loss/len(train_loader), optimizer.param_groups[0]['lr']))\n",
        "  scheduler.step()\n",
        "  model.eval()\n",
        "  for batch, (inputs, labels) in enumerate(validation_loader, 0):\n",
        "    inputs, labels = inputs.to(device), labels.to(device)\n",
        "    with torch.no_grad():\n",
        "      outputs = model(inputs)\n",
        "      loss = criterion(outputs, labels)\n",
        "      validation_loss += loss.item()\n",
        "  print('Validation --> Epoch: %d, Loss: %1.8f' % (epoch+1, validation_loss/len(validation_loader)))\n",
        "print('Done training!')"
      ],
      "execution_count": 0,
      "outputs": [
        {
          "output_type": "stream",
          "text": [
            "Start training ...\n",
            "Training --> Epoch: 1, Loss: 2.11311411 LR: 0.00100000\n",
            "Validation --> Epoch: 1, Loss: 2.06976370\n",
            "Training --> Epoch: 2, Loss: 2.05368709 LR: 0.00100000\n",
            "Validation --> Epoch: 2, Loss: 2.01400391\n",
            "Training --> Epoch: 3, Loss: 2.01073951 LR: 0.00100000\n",
            "Validation --> Epoch: 3, Loss: 1.94448510\n",
            "Training --> Epoch: 4, Loss: 1.97341613 LR: 0.00100000\n",
            "Validation --> Epoch: 4, Loss: 1.89129612\n",
            "Training --> Epoch: 5, Loss: 1.94646561 LR: 0.00100000\n",
            "Validation --> Epoch: 5, Loss: 1.86945141\n",
            "Training --> Epoch: 6, Loss: 1.93035220 LR: 0.00100000\n",
            "Validation --> Epoch: 6, Loss: 1.88402562\n",
            "Training --> Epoch: 7, Loss: 1.91747389 LR: 0.00100000\n",
            "Validation --> Epoch: 7, Loss: 1.86067864\n",
            "Training --> Epoch: 8, Loss: 1.90067140 LR: 0.00100000\n",
            "Validation --> Epoch: 8, Loss: 1.85152982\n",
            "Training --> Epoch: 9, Loss: 1.89376871 LR: 0.00100000\n",
            "Validation --> Epoch: 9, Loss: 1.83027994\n",
            "Training --> Epoch: 10, Loss: 1.88376594 LR: 0.00100000\n",
            "Validation --> Epoch: 10, Loss: 1.81756229\n",
            "Training --> Epoch: 11, Loss: 1.86750693 LR: 0.00100000\n",
            "Validation --> Epoch: 11, Loss: 1.81492978\n",
            "Training --> Epoch: 12, Loss: 1.86107072 LR: 0.00100000\n",
            "Validation --> Epoch: 12, Loss: 1.80506593\n",
            "Training --> Epoch: 13, Loss: 1.85487572 LR: 0.00100000\n",
            "Validation --> Epoch: 13, Loss: 1.78699699\n",
            "Training --> Epoch: 14, Loss: 1.85133856 LR: 0.00100000\n",
            "Validation --> Epoch: 14, Loss: 1.77323132\n",
            "Training --> Epoch: 15, Loss: 1.83976362 LR: 0.00100000\n",
            "Validation --> Epoch: 15, Loss: 1.77965763\n",
            "Training --> Epoch: 16, Loss: 1.83489349 LR: 0.00100000\n",
            "Validation --> Epoch: 16, Loss: 1.75807112\n",
            "Training --> Epoch: 17, Loss: 1.83127946 LR: 0.00100000\n",
            "Validation --> Epoch: 17, Loss: 1.75850004\n",
            "Training --> Epoch: 18, Loss: 1.82823639 LR: 0.00100000\n",
            "Validation --> Epoch: 18, Loss: 1.75577869\n",
            "Training --> Epoch: 19, Loss: 1.82072733 LR: 0.00100000\n",
            "Validation --> Epoch: 19, Loss: 1.75240067\n",
            "Training --> Epoch: 20, Loss: 1.81750028 LR: 0.00100000\n",
            "Validation --> Epoch: 20, Loss: 1.74679515\n",
            "Training --> Epoch: 21, Loss: 1.81519883 LR: 0.00100000\n",
            "Validation --> Epoch: 21, Loss: 1.73479788\n",
            "Training --> Epoch: 22, Loss: 1.80555093 LR: 0.00100000\n",
            "Validation --> Epoch: 22, Loss: 1.72831861\n",
            "Training --> Epoch: 23, Loss: 1.79997577 LR: 0.00100000\n",
            "Validation --> Epoch: 23, Loss: 1.74470870\n",
            "Training --> Epoch: 24, Loss: 1.80259952 LR: 0.00100000\n",
            "Validation --> Epoch: 24, Loss: 1.72378104\n",
            "Training --> Epoch: 25, Loss: 1.79570863 LR: 0.00100000\n",
            "Validation --> Epoch: 25, Loss: 1.73147852\n",
            "Training --> Epoch: 26, Loss: 1.79274089 LR: 0.00100000\n",
            "Validation --> Epoch: 26, Loss: 1.71900072\n",
            "Training --> Epoch: 27, Loss: 1.78971490 LR: 0.00100000\n",
            "Validation --> Epoch: 27, Loss: 1.74163932\n",
            "Training --> Epoch: 28, Loss: 1.78709063 LR: 0.00100000\n",
            "Validation --> Epoch: 28, Loss: 1.73312360\n",
            "Training --> Epoch: 29, Loss: 1.78464827 LR: 0.00100000\n",
            "Validation --> Epoch: 29, Loss: 1.72159574\n",
            "Training --> Epoch: 30, Loss: 1.78004775 LR: 0.00100000\n",
            "Validation --> Epoch: 30, Loss: 1.72156276\n",
            "Training --> Epoch: 31, Loss: 1.77860888 LR: 0.00100000\n",
            "Validation --> Epoch: 31, Loss: 1.70473395\n",
            "Training --> Epoch: 32, Loss: 1.77580469 LR: 0.00100000\n",
            "Validation --> Epoch: 32, Loss: 1.71234900\n",
            "Training --> Epoch: 33, Loss: 1.77410538 LR: 0.00100000\n",
            "Validation --> Epoch: 33, Loss: 1.71039826\n",
            "Training --> Epoch: 34, Loss: 1.77199165 LR: 0.00100000\n",
            "Validation --> Epoch: 34, Loss: 1.71525101\n",
            "Training --> Epoch: 35, Loss: 1.77403304 LR: 0.00100000\n",
            "Validation --> Epoch: 35, Loss: 1.70221970\n",
            "Training --> Epoch: 36, Loss: 1.77092840 LR: 0.00100000\n",
            "Validation --> Epoch: 36, Loss: 1.70852347\n",
            "Training --> Epoch: 37, Loss: 1.76945132 LR: 0.00100000\n",
            "Validation --> Epoch: 37, Loss: 1.70466037\n",
            "Training --> Epoch: 38, Loss: 1.76585702 LR: 0.00100000\n",
            "Validation --> Epoch: 38, Loss: 1.70017089\n",
            "Training --> Epoch: 39, Loss: 1.76147153 LR: 0.00100000\n",
            "Validation --> Epoch: 39, Loss: 1.69534596\n",
            "Training --> Epoch: 40, Loss: 1.75733660 LR: 0.00100000\n",
            "Validation --> Epoch: 40, Loss: 1.69153327\n",
            "Training --> Epoch: 41, Loss: 1.75826148 LR: 0.00100000\n",
            "Validation --> Epoch: 41, Loss: 1.70248278\n",
            "Training --> Epoch: 42, Loss: 1.75972104 LR: 0.00100000\n",
            "Validation --> Epoch: 42, Loss: 1.69484152\n",
            "Training --> Epoch: 43, Loss: 1.75355771 LR: 0.00100000\n",
            "Validation --> Epoch: 43, Loss: 1.69382519\n",
            "Training --> Epoch: 44, Loss: 1.75193154 LR: 0.00100000\n",
            "Validation --> Epoch: 44, Loss: 1.69738925\n",
            "Training --> Epoch: 45, Loss: 1.75388273 LR: 0.00100000\n",
            "Validation --> Epoch: 45, Loss: 1.68690091\n",
            "Training --> Epoch: 46, Loss: 1.75216132 LR: 0.00100000\n",
            "Validation --> Epoch: 46, Loss: 1.69133078\n",
            "Training --> Epoch: 47, Loss: 1.74901529 LR: 0.00100000\n",
            "Validation --> Epoch: 47, Loss: 1.69116565\n",
            "Training --> Epoch: 48, Loss: 1.74831794 LR: 0.00100000\n",
            "Validation --> Epoch: 48, Loss: 1.68906722\n",
            "Training --> Epoch: 49, Loss: 1.75071810 LR: 0.00100000\n",
            "Validation --> Epoch: 49, Loss: 1.67810975\n",
            "Training --> Epoch: 50, Loss: 1.74525196 LR: 0.00100000\n",
            "Validation --> Epoch: 50, Loss: 1.69302538\n",
            "Training --> Epoch: 51, Loss: 1.74474987 LR: 0.00100000\n",
            "Validation --> Epoch: 51, Loss: 1.68235236\n",
            "Training --> Epoch: 52, Loss: 1.74230910 LR: 0.00100000\n",
            "Validation --> Epoch: 52, Loss: 1.67569121\n",
            "Training --> Epoch: 53, Loss: 1.73968012 LR: 0.00100000\n",
            "Validation --> Epoch: 53, Loss: 1.68152287\n",
            "Training --> Epoch: 54, Loss: 1.73818882 LR: 0.00100000\n",
            "Validation --> Epoch: 54, Loss: 1.67271121\n",
            "Training --> Epoch: 55, Loss: 1.73628619 LR: 0.00100000\n",
            "Validation --> Epoch: 55, Loss: 1.67655762\n",
            "Training --> Epoch: 56, Loss: 1.73837036 LR: 0.00100000\n",
            "Validation --> Epoch: 56, Loss: 1.67523869\n",
            "Training --> Epoch: 57, Loss: 1.73580445 LR: 0.00100000\n",
            "Validation --> Epoch: 57, Loss: 1.68726726\n",
            "Training --> Epoch: 58, Loss: 1.73418374 LR: 0.00100000\n",
            "Validation --> Epoch: 58, Loss: 1.67472211\n",
            "Training --> Epoch: 59, Loss: 1.72982570 LR: 0.00100000\n",
            "Validation --> Epoch: 59, Loss: 1.68682492\n",
            "Training --> Epoch: 60, Loss: 1.73156156 LR: 0.00100000\n",
            "Validation --> Epoch: 60, Loss: 1.67048122\n",
            "Training --> Epoch: 61, Loss: 1.73316337 LR: 0.00100000\n",
            "Validation --> Epoch: 61, Loss: 1.67785286\n",
            "Training --> Epoch: 62, Loss: 1.72896344 LR: 0.00100000\n",
            "Validation --> Epoch: 62, Loss: 1.67496022\n",
            "Training --> Epoch: 63, Loss: 1.72980679 LR: 0.00100000\n",
            "Validation --> Epoch: 63, Loss: 1.68799782\n",
            "Training --> Epoch: 64, Loss: 1.73102263 LR: 0.00100000\n",
            "Validation --> Epoch: 64, Loss: 1.66553516\n",
            "Training --> Epoch: 65, Loss: 1.72721270 LR: 0.00100000\n",
            "Validation --> Epoch: 65, Loss: 1.67219466\n",
            "Training --> Epoch: 66, Loss: 1.72598111 LR: 0.00100000\n",
            "Validation --> Epoch: 66, Loss: 1.66545573\n",
            "Training --> Epoch: 67, Loss: 1.72684616 LR: 0.00100000\n",
            "Validation --> Epoch: 67, Loss: 1.67384302\n",
            "Training --> Epoch: 68, Loss: 1.72585578 LR: 0.00100000\n",
            "Validation --> Epoch: 68, Loss: 1.66882321\n",
            "Training --> Epoch: 69, Loss: 1.72476450 LR: 0.00100000\n",
            "Validation --> Epoch: 69, Loss: 1.66928211\n",
            "Training --> Epoch: 70, Loss: 1.72373075 LR: 0.00100000\n",
            "Validation --> Epoch: 70, Loss: 1.66795077\n",
            "Training --> Epoch: 71, Loss: 1.72253061 LR: 0.00100000\n",
            "Validation --> Epoch: 71, Loss: 1.66434785\n",
            "Training --> Epoch: 72, Loss: 1.72148925 LR: 0.00100000\n",
            "Validation --> Epoch: 72, Loss: 1.66675020\n",
            "Training --> Epoch: 73, Loss: 1.71976604 LR: 0.00100000\n",
            "Validation --> Epoch: 73, Loss: 1.66367538\n",
            "Training --> Epoch: 74, Loss: 1.71828717 LR: 0.00100000\n",
            "Validation --> Epoch: 74, Loss: 1.66335280\n",
            "Training --> Epoch: 75, Loss: 1.72270129 LR: 0.00100000\n",
            "Validation --> Epoch: 75, Loss: 1.66924935\n",
            "Training --> Epoch: 76, Loss: 1.70339279 LR: 0.00050000\n",
            "Validation --> Epoch: 76, Loss: 1.64812117\n",
            "Training --> Epoch: 77, Loss: 1.69780914 LR: 0.00050000\n",
            "Validation --> Epoch: 77, Loss: 1.64736162\n",
            "Training --> Epoch: 78, Loss: 1.69270754 LR: 0.00050000\n",
            "Validation --> Epoch: 78, Loss: 1.64597409\n",
            "Training --> Epoch: 79, Loss: 1.69310303 LR: 0.00050000\n",
            "Validation --> Epoch: 79, Loss: 1.64018169\n",
            "Training --> Epoch: 80, Loss: 1.68840252 LR: 0.00050000\n",
            "Validation --> Epoch: 80, Loss: 1.64934988\n",
            "Training --> Epoch: 81, Loss: 1.68900846 LR: 0.00050000\n",
            "Validation --> Epoch: 81, Loss: 1.64500921\n",
            "Training --> Epoch: 82, Loss: 1.68580078 LR: 0.00050000\n",
            "Validation --> Epoch: 82, Loss: 1.64108157\n",
            "Training --> Epoch: 83, Loss: 1.68431274 LR: 0.00050000\n",
            "Validation --> Epoch: 83, Loss: 1.64471688\n",
            "Training --> Epoch: 84, Loss: 1.68300122 LR: 0.00050000\n",
            "Validation --> Epoch: 84, Loss: 1.64191650\n",
            "Training --> Epoch: 85, Loss: 1.68265113 LR: 0.00050000\n",
            "Validation --> Epoch: 85, Loss: 1.63594887\n",
            "Training --> Epoch: 86, Loss: 1.68192626 LR: 0.00050000\n",
            "Validation --> Epoch: 86, Loss: 1.63515834\n",
            "Training --> Epoch: 87, Loss: 1.68092458 LR: 0.00050000\n",
            "Validation --> Epoch: 87, Loss: 1.63875112\n",
            "Training --> Epoch: 88, Loss: 1.68106358 LR: 0.00050000\n",
            "Validation --> Epoch: 88, Loss: 1.63954136\n",
            "Training --> Epoch: 89, Loss: 1.67929792 LR: 0.00050000\n",
            "Validation --> Epoch: 89, Loss: 1.64322716\n",
            "Training --> Epoch: 90, Loss: 1.67873304 LR: 0.00050000\n",
            "Validation --> Epoch: 90, Loss: 1.63998631\n",
            "Training --> Epoch: 91, Loss: 1.67820845 LR: 0.00050000\n",
            "Validation --> Epoch: 91, Loss: 1.63109263\n",
            "Training --> Epoch: 92, Loss: 1.67608850 LR: 0.00050000\n",
            "Validation --> Epoch: 92, Loss: 1.64073133\n",
            "Training --> Epoch: 93, Loss: 1.67459232 LR: 0.00050000\n",
            "Validation --> Epoch: 93, Loss: 1.63465465\n",
            "Training --> Epoch: 94, Loss: 1.67491313 LR: 0.00050000\n",
            "Validation --> Epoch: 94, Loss: 1.63218325\n",
            "Training --> Epoch: 95, Loss: 1.67434310 LR: 0.00050000\n",
            "Validation --> Epoch: 95, Loss: 1.63108901\n",
            "Training --> Epoch: 96, Loss: 1.67430265 LR: 0.00050000\n",
            "Validation --> Epoch: 96, Loss: 1.63810029\n",
            "Training --> Epoch: 97, Loss: 1.67480911 LR: 0.00050000\n",
            "Validation --> Epoch: 97, Loss: 1.63493411\n",
            "Training --> Epoch: 98, Loss: 1.67478950 LR: 0.00050000\n",
            "Validation --> Epoch: 98, Loss: 1.63213839\n",
            "Training --> Epoch: 99, Loss: 1.67344904 LR: 0.00050000\n",
            "Validation --> Epoch: 99, Loss: 1.63201473\n",
            "Training --> Epoch: 100, Loss: 1.67190858 LR: 0.00050000\n",
            "Validation --> Epoch: 100, Loss: 1.62928005\n",
            "Training --> Epoch: 101, Loss: 1.66613910 LR: 0.00025000\n",
            "Validation --> Epoch: 101, Loss: 1.62252698\n",
            "Training --> Epoch: 102, Loss: 1.65949150 LR: 0.00025000\n",
            "Validation --> Epoch: 102, Loss: 1.62236000\n",
            "Training --> Epoch: 103, Loss: 1.66036621 LR: 0.00025000\n",
            "Validation --> Epoch: 103, Loss: 1.62568884\n",
            "Training --> Epoch: 104, Loss: 1.65964650 LR: 0.00025000\n",
            "Validation --> Epoch: 104, Loss: 1.62369778\n",
            "Training --> Epoch: 105, Loss: 1.65692616 LR: 0.00025000\n",
            "Validation --> Epoch: 105, Loss: 1.61953378\n",
            "Training --> Epoch: 106, Loss: 1.65517689 LR: 0.00025000\n",
            "Validation --> Epoch: 106, Loss: 1.61753270\n",
            "Training --> Epoch: 107, Loss: 1.65440833 LR: 0.00025000\n",
            "Validation --> Epoch: 107, Loss: 1.62085455\n",
            "Training --> Epoch: 108, Loss: 1.65495752 LR: 0.00025000\n",
            "Validation --> Epoch: 108, Loss: 1.61618299\n",
            "Training --> Epoch: 109, Loss: 1.65163265 LR: 0.00025000\n",
            "Validation --> Epoch: 109, Loss: 1.62353740\n",
            "Training --> Epoch: 110, Loss: 1.65088931 LR: 0.00025000\n",
            "Validation --> Epoch: 110, Loss: 1.62075410\n",
            "Training --> Epoch: 111, Loss: 1.65326176 LR: 0.00025000\n",
            "Validation --> Epoch: 111, Loss: 1.61490378\n",
            "Training --> Epoch: 112, Loss: 1.65301774 LR: 0.00025000\n",
            "Validation --> Epoch: 112, Loss: 1.61935416\n",
            "Training --> Epoch: 113, Loss: 1.65068016 LR: 0.00025000\n",
            "Validation --> Epoch: 113, Loss: 1.62024005\n",
            "Training --> Epoch: 114, Loss: 1.65217674 LR: 0.00025000\n",
            "Validation --> Epoch: 114, Loss: 1.61846362\n",
            "Training --> Epoch: 115, Loss: 1.64991172 LR: 0.00025000\n",
            "Validation --> Epoch: 115, Loss: 1.61755085\n",
            "Training --> Epoch: 116, Loss: 1.64928284 LR: 0.00025000\n",
            "Validation --> Epoch: 116, Loss: 1.61328651\n",
            "Training --> Epoch: 117, Loss: 1.64842673 LR: 0.00025000\n",
            "Validation --> Epoch: 117, Loss: 1.61331154\n",
            "Training --> Epoch: 118, Loss: 1.64834940 LR: 0.00025000\n",
            "Validation --> Epoch: 118, Loss: 1.61435603\n",
            "Training --> Epoch: 119, Loss: 1.64655995 LR: 0.00025000\n",
            "Validation --> Epoch: 119, Loss: 1.61523773\n",
            "Training --> Epoch: 120, Loss: 1.64707647 LR: 0.00025000\n",
            "Validation --> Epoch: 120, Loss: 1.61155355\n",
            "Done training!\n"
          ],
          "name": "stdout"
        }
      ]
    },
    {
      "cell_type": "code",
      "metadata": {
        "id": "GsWwD-6EM5k4",
        "colab_type": "code",
        "outputId": "7f938baf-5282-411d-c5e7-9196710cb3ed",
        "colab": {
          "base_uri": "https://localhost:8080/",
          "height": 34
        }
      },
      "source": [
        "correct = 0\n",
        "total = 0\n",
        "model.eval() # make sure we are in eval mode\n",
        "with torch.no_grad():\n",
        "    for images, labels in test_loader:\n",
        "        images, labels = images.to(device), labels.to(device)\n",
        "        outputs = model(images)\n",
        "        _, predicted = torch.max(outputs.data, 1)\n",
        "        total += labels.size(0)\n",
        "        correct += (predicted == labels).sum().item()\n",
        "\n",
        "print('Accuracy of the network on the 5000 test images: %d %%' % (\n",
        "    100 * correct / total))"
      ],
      "execution_count": 0,
      "outputs": [
        {
          "output_type": "stream",
          "text": [
            "Accuracy of the network on the 5000 test images: 84 %\n"
          ],
          "name": "stdout"
        }
      ]
    },
    {
      "cell_type": "markdown",
      "metadata": {
        "id": "PrZBsU5J5YA0",
        "colab_type": "text"
      },
      "source": [
        "## Time to Implement the HopSkipJump Attack on CIFAR-10\n",
        "* I am going to be using https://adversarial-robustness-toolbox.readthedocs.io/en/latest/guide/setup.html to help me out\n",
        "* The paper that showcases this method is https://arxiv.org/abs/1904.02144\n",
        "* First let's take a look at what some of the images look like in CIFAR-10"
      ]
    },
    {
      "cell_type": "code",
      "metadata": {
        "id": "QQHwnRsTbI9I",
        "colab_type": "code",
        "outputId": "b9f4cc6a-94bd-48b2-9b48-916fe7ebf474",
        "colab": {
          "base_uri": "https://localhost:8080/",
          "height": 411
        }
      },
      "source": [
        "!pip install adversarial-robustness-toolbox\n",
        "import numpy as np\n",
        "import matplotlib.pyplot as plt\n",
        "from art.attacks import HopSkipJump\n",
        "from art.classifiers import PyTorchClassifier"
      ],
      "execution_count": 0,
      "outputs": [
        {
          "output_type": "stream",
          "text": [
            "Collecting adversarial-robustness-toolbox\n",
            "\u001b[?25l  Downloading https://files.pythonhosted.org/packages/f7/b5/7c7ef44bd2729140930612b4d10af2dbcfa0ca6c9592251c490100b4753a/adversarial_robustness_toolbox-1.2.0-py3-none-any.whl (486kB)\n",
            "\r\u001b[K     |▊                               | 10kB 22.4MB/s eta 0:00:01\r\u001b[K     |█▍                              | 20kB 27.3MB/s eta 0:00:01\r\u001b[K     |██                              | 30kB 29.1MB/s eta 0:00:01\r\u001b[K     |██▊                             | 40kB 19.6MB/s eta 0:00:01\r\u001b[K     |███▍                            | 51kB 12.7MB/s eta 0:00:01\r\u001b[K     |████                            | 61kB 11.5MB/s eta 0:00:01\r\u001b[K     |████▊                           | 71kB 11.6MB/s eta 0:00:01\r\u001b[K     |█████▍                          | 81kB 12.6MB/s eta 0:00:01\r\u001b[K     |██████                          | 92kB 12.4MB/s eta 0:00:01\r\u001b[K     |██████▊                         | 102kB 11.8MB/s eta 0:00:01\r\u001b[K     |███████▍                        | 112kB 11.8MB/s eta 0:00:01\r\u001b[K     |████████                        | 122kB 11.8MB/s eta 0:00:01\r\u001b[K     |████████▊                       | 133kB 11.8MB/s eta 0:00:01\r\u001b[K     |█████████▍                      | 143kB 11.8MB/s eta 0:00:01\r\u001b[K     |██████████▏                     | 153kB 11.8MB/s eta 0:00:01\r\u001b[K     |██████████▉                     | 163kB 11.8MB/s eta 0:00:01\r\u001b[K     |███████████▌                    | 174kB 11.8MB/s eta 0:00:01\r\u001b[K     |████████████▏                   | 184kB 11.8MB/s eta 0:00:01\r\u001b[K     |████████████▉                   | 194kB 11.8MB/s eta 0:00:01\r\u001b[K     |█████████████▌                  | 204kB 11.8MB/s eta 0:00:01\r\u001b[K     |██████████████▏                 | 215kB 11.8MB/s eta 0:00:01\r\u001b[K     |██████████████▉                 | 225kB 11.8MB/s eta 0:00:01\r\u001b[K     |███████████████▌                | 235kB 11.8MB/s eta 0:00:01\r\u001b[K     |████████████████▏               | 245kB 11.8MB/s eta 0:00:01\r\u001b[K     |████████████████▉               | 256kB 11.8MB/s eta 0:00:01\r\u001b[K     |█████████████████▌              | 266kB 11.8MB/s eta 0:00:01\r\u001b[K     |██████████████████▏             | 276kB 11.8MB/s eta 0:00:01\r\u001b[K     |██████████████████▉             | 286kB 11.8MB/s eta 0:00:01\r\u001b[K     |███████████████████▌            | 296kB 11.8MB/s eta 0:00:01\r\u001b[K     |████████████████████▎           | 307kB 11.8MB/s eta 0:00:01\r\u001b[K     |█████████████████████           | 317kB 11.8MB/s eta 0:00:01\r\u001b[K     |█████████████████████▋          | 327kB 11.8MB/s eta 0:00:01\r\u001b[K     |██████████████████████▎         | 337kB 11.8MB/s eta 0:00:01\r\u001b[K     |███████████████████████         | 348kB 11.8MB/s eta 0:00:01\r\u001b[K     |███████████████████████▋        | 358kB 11.8MB/s eta 0:00:01\r\u001b[K     |████████████████████████▎       | 368kB 11.8MB/s eta 0:00:01\r\u001b[K     |█████████████████████████       | 378kB 11.8MB/s eta 0:00:01\r\u001b[K     |█████████████████████████▋      | 389kB 11.8MB/s eta 0:00:01\r\u001b[K     |██████████████████████████▎     | 399kB 11.8MB/s eta 0:00:01\r\u001b[K     |███████████████████████████     | 409kB 11.8MB/s eta 0:00:01\r\u001b[K     |███████████████████████████▋    | 419kB 11.8MB/s eta 0:00:01\r\u001b[K     |████████████████████████████▎   | 430kB 11.8MB/s eta 0:00:01\r\u001b[K     |█████████████████████████████   | 440kB 11.8MB/s eta 0:00:01\r\u001b[K     |█████████████████████████████▋  | 450kB 11.8MB/s eta 0:00:01\r\u001b[K     |██████████████████████████████▍ | 460kB 11.8MB/s eta 0:00:01\r\u001b[K     |███████████████████████████████ | 471kB 11.8MB/s eta 0:00:01\r\u001b[K     |███████████████████████████████▊| 481kB 11.8MB/s eta 0:00:01\r\u001b[K     |████████████████████████████████| 491kB 11.8MB/s \n",
            "\u001b[?25hRequirement already satisfied: Pillow==7.0.0 in /usr/local/lib/python3.6/dist-packages (from adversarial-robustness-toolbox) (7.0.0)\n",
            "Requirement already satisfied: numpy in /usr/local/lib/python3.6/dist-packages (from adversarial-robustness-toolbox) (1.18.4)\n",
            "Requirement already satisfied: matplotlib in /usr/local/lib/python3.6/dist-packages (from adversarial-robustness-toolbox) (3.2.1)\n",
            "Collecting scikit-learn==0.22.1\n",
            "\u001b[?25l  Downloading https://files.pythonhosted.org/packages/d1/48/e9fa9e252abcd1447eff6f9257636af31758a6e46fd5ce5d3c879f6907cb/scikit_learn-0.22.1-cp36-cp36m-manylinux1_x86_64.whl (7.0MB)\n",
            "\u001b[K     |████████████████████████████████| 7.1MB 6.1MB/s \n",
            "\u001b[?25hRequirement already satisfied: six in /usr/local/lib/python3.6/dist-packages (from adversarial-robustness-toolbox) (1.12.0)\n",
            "Requirement already satisfied: setuptools in /usr/local/lib/python3.6/dist-packages (from adversarial-robustness-toolbox) (46.3.0)\n",
            "Requirement already satisfied: scipy in /usr/local/lib/python3.6/dist-packages (from adversarial-robustness-toolbox) (1.4.1)\n",
            "Requirement already satisfied: cycler>=0.10 in /usr/local/lib/python3.6/dist-packages (from matplotlib->adversarial-robustness-toolbox) (0.10.0)\n",
            "Requirement already satisfied: pyparsing!=2.0.4,!=2.1.2,!=2.1.6,>=2.0.1 in /usr/local/lib/python3.6/dist-packages (from matplotlib->adversarial-robustness-toolbox) (2.4.7)\n",
            "Requirement already satisfied: kiwisolver>=1.0.1 in /usr/local/lib/python3.6/dist-packages (from matplotlib->adversarial-robustness-toolbox) (1.2.0)\n",
            "Requirement already satisfied: python-dateutil>=2.1 in /usr/local/lib/python3.6/dist-packages (from matplotlib->adversarial-robustness-toolbox) (2.8.1)\n",
            "Requirement already satisfied: joblib>=0.11 in /usr/local/lib/python3.6/dist-packages (from scikit-learn==0.22.1->adversarial-robustness-toolbox) (0.14.1)\n",
            "Installing collected packages: scikit-learn, adversarial-robustness-toolbox\n",
            "  Found existing installation: scikit-learn 0.22.2.post1\n",
            "    Uninstalling scikit-learn-0.22.2.post1:\n",
            "      Successfully uninstalled scikit-learn-0.22.2.post1\n",
            "Successfully installed adversarial-robustness-toolbox-1.2.0 scikit-learn-0.22.1\n"
          ],
          "name": "stdout"
        }
      ]
    },
    {
      "cell_type": "code",
      "metadata": {
        "id": "0bl47Hcwb_xg",
        "colab_type": "code",
        "outputId": "6f5c9e9d-de1b-49d5-e642-7a8de37174a8",
        "colab": {
          "base_uri": "https://localhost:8080/",
          "height": 298
        }
      },
      "source": [
        "classes = ['plane', 'car', 'bird', 'cat',\n",
        "           'deer', 'dog', 'frog', 'horse', 'ship', 'truck']\n",
        "\n",
        "test_normalize = test_transform.transforms[1]\n",
        "mean = torch.tensor(test_normalize.mean, dtype=torch.float32)\n",
        "std = torch.tensor(test_normalize.std, dtype=torch.float32)\n",
        "inverse_transform = transforms.Normalize((-mean / std).tolist(), (1.0 / std).tolist())\n",
        "\n",
        "\n",
        "def imshow(img_tensor):\n",
        "    img_tensor = inverse_transform(torch.squeeze(img_tensor)).permute(1,2,0)\n",
        "    plt.imshow(img_tensor)\n",
        "    plt.show()\n",
        "\n",
        "\n",
        "dataiter = iter(test_loader)\n",
        "image, label = dataiter.next()\n",
        "print('The shape of the target_image tensor is ' + str(image.shape))\n",
        "plt.title('Image label: ' + str(classes[label.item()]))\n",
        "imshow(image)"
      ],
      "execution_count": 0,
      "outputs": [
        {
          "output_type": "stream",
          "text": [
            "The shape of the target_image tensor is torch.Size([1, 3, 32, 32])\n"
          ],
          "name": "stdout"
        },
        {
          "output_type": "display_data",
          "data": {
            "image/png": "[encoded data removed]",
            "text/plain": [
              "<Figure size 432x288 with 1 Axes>"
            ]
          },
          "metadata": {
            "tags": [],
            "needs_background": "light"
          }
        }
      ]
    },
    {
      "cell_type": "markdown",
      "metadata": {
        "id": "Bps0fmieq-J7",
        "colab_type": "text"
      },
      "source": [
        "## The Basics of the HopSkipJump attack\n",
        "* This is a powerful black-box attack that only requires final class prediction, and is an advanced version of the boundary attack.\n",
        "In the untargeted setting (target=False) an adversarial is any image for which the predicted label is different from the label of the original image (since HopSkipJump has the classifier we can use it to get the class of the image). Then via various mathematical techniques we can generate an image that will classify into the randomly chosen target class.\n",
        "* NOTE: The model (classifier) can still classify images into the wrong label. When this occurs we can have issues with the adversarial image actually matching the correct label which is something we do not want. This is why targeted attacks (where we essentially pick the class that we are trying to match using an init image) can perform better under certain circumstances. But for the most part this attack will serve its purpose."
      ]
    },
    {
      "cell_type": "code",
      "metadata": {
        "id": "K-QiYsY1d_5s",
        "colab_type": "code",
        "colab": {}
      },
      "source": [
        "classifier = PyTorchClassifier(model, criterion, optimizer, (3, 32, 32), 10, device_type='gpu')"
      ],
      "execution_count": 0,
      "outputs": []
    },
    {
      "cell_type": "code",
      "metadata": {
        "id": "zdTsufLRgseo",
        "colab_type": "code",
        "outputId": "63c7e660-ea49-421b-9963-253deb81f514",
        "colab": {
          "base_uri": "https://localhost:8080/",
          "height": 1000
        }
      },
      "source": [
        "attack = HopSkipJump(classifier=classifier, targeted=False, max_iter=0, max_eval=1000, init_eval=10)\n",
        "target_image = image.numpy()\n",
        "print('The label for the image is a ' + classes[label.item()] + '.')\n",
        "classified_label = np.argmax(classifier.predict(target_image))\n",
        "print('The model orginally classfied this image as a ' + classes[classified_label] + '.')\n",
        "\n",
        "iter_step = 10\n",
        "x_adv = None\n",
        "for i in range(20):\n",
        "    x_adv = attack.generate(x=target_image, x_adv_init=x_adv, resume=True)\n",
        "    if(i % 5 == 0):\n",
        "      print(\"Adversarial image at step %d.\" % (i * iter_step), \"L2 error\", \n",
        "          np.linalg.norm(np.reshape(x_adv - target_image, [-1])),\n",
        "          \". Classified as a %s.\" % classes[np.argmax(classifier.predict(x_adv))])\n",
        "      imshow(torch.tensor(x_adv))\n",
        "      plt.show(block=False)\n",
        "    \n",
        "    attack.max_iter = iter_step"
      ],
      "execution_count": 0,
      "outputs": [
        {
          "output_type": "stream",
          "text": [
            "The label for the image is a cat.\n",
            "The model orginally classfied this image as a dog.\n",
            "Adversarial image at step 0. L2 error 0.8701033 . Classified as a cat.\n"
          ],
          "name": "stdout"
        },
        {
          "output_type": "display_data",
          "data": {
            "image/png": "[encoded data removed]",
            "text/plain": [
              "<Figure size 432x288 with 1 Axes>"
            ]
          },
          "metadata": {
            "tags": [],
            "needs_background": "light"
          }
        },
        {
          "output_type": "stream",
          "text": [
            "Adversarial image at step 50. L2 error 0.016307417 . Classified as a cat.\n"
          ],
          "name": "stdout"
        },
        {
          "output_type": "display_data",
          "data": {
            "image/png": "[encoded data removed]",
            "text/plain": [
              "<Figure size 432x288 with 1 Axes>"
            ]
          },
          "metadata": {
            "tags": [],
            "needs_background": "light"
          }
        },
        {
          "output_type": "stream",
          "text": [
            "Adversarial image at step 100. L2 error 0.012010048 . Classified as a cat.\n"
          ],
          "name": "stdout"
        },
        {
          "output_type": "display_data",
          "data": {
            "image/png": "[encoded data removed]",
            "text/plain": [
              "<Figure size 432x288 with 1 Axes>"
            ]
          },
          "metadata": {
            "tags": [],
            "needs_background": "light"
          }
        },
        {
          "output_type": "stream",
          "text": [
            "Adversarial image at step 150. L2 error 0.010807823 . Classified as a cat.\n"
          ],
          "name": "stdout"
        },
        {
          "output_type": "display_data",
          "data": {
            "image/png": "[encoded data removed]",
            "text/plain": [
              "<Figure size 432x288 with 1 Axes>"
            ]
          },
          "metadata": {
            "tags": [],
            "needs_background": "light"
          }
        }
      ]
    },
    {
      "cell_type": "code",
      "metadata": {
        "id": "IEmQmr6_n6dp",
        "colab_type": "code",
        "colab": {
          "base_uri": "https://localhost:8080/",
          "height": 34
        },
        "outputId": "f0374fa1-1067-4996-f72e-c8afd5a40bed"
      },
      "source": [
        "# only test this on 100 images becuase it takes so long\n",
        "attack = HopSkipJump(classifier=classifier, targeted=False, max_iter=50, max_eval=1000, init_eval=10)\n",
        "correct = 0\n",
        "total = 0\n",
        "for images, labels in test_loader:\n",
        "  target_image = images.numpy()\n",
        "  x_adv = attack.generate(x=target_image, x_adv_init=None, resume=True)\n",
        "  predicted = torch.tensor([np.argmax(classifier.predict(x_adv))])\n",
        "  total += labels.size(0)\n",
        "  correct += (predicted == labels).sum().item()\n",
        "  if total > 100:\n",
        "    break\n",
        "    \n",
        "print('Accuracy of the network against 5000 adversarial attack images: %d %%' % (\n",
        "    100 * correct / total))"
      ],
      "execution_count": 10,
      "outputs": [
        {
          "output_type": "stream",
          "text": [
            "Accuracy of the network against 5000 adversarial attack images: 10 %\n"
          ],
          "name": "stdout"
        }
      ]
    }
  ]
}